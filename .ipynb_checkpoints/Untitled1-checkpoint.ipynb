{
 "cells": [
  {
   "cell_type": "code",
   "execution_count": 1,
   "id": "8a80330c",
   "metadata": {},
   "outputs": [],
   "source": [
    "import pandas as pd"
   ]
  },
  {
   "cell_type": "code",
   "execution_count": 2,
   "id": "57a4d8e6",
   "metadata": {},
   "outputs": [],
   "source": [
    "import matplotlib.pyplot as plt\n",
    "import seaborn as sns\n"
   ]
  },
  {
   "cell_type": "code",
   "execution_count": 3,
   "id": "76f14526",
   "metadata": {},
   "outputs": [],
   "source": [
    "df= pd.read_csv('Chicago_Crimes_2012_to_2017.csv')"
   ]
  },
  {
   "cell_type": "code",
   "execution_count": 4,
   "id": "b25caf4d",
   "metadata": {},
   "outputs": [
    {
     "data": {
      "text/html": [
       "<div>\n",
       "<style scoped>\n",
       "    .dataframe tbody tr th:only-of-type {\n",
       "        vertical-align: middle;\n",
       "    }\n",
       "\n",
       "    .dataframe tbody tr th {\n",
       "        vertical-align: top;\n",
       "    }\n",
       "\n",
       "    .dataframe thead th {\n",
       "        text-align: right;\n",
       "    }\n",
       "</style>\n",
       "<table border=\"1\" class=\"dataframe\">\n",
       "  <thead>\n",
       "    <tr style=\"text-align: right;\">\n",
       "      <th></th>\n",
       "      <th>Unnamed: 0</th>\n",
       "      <th>ID</th>\n",
       "      <th>Case Number</th>\n",
       "      <th>Date</th>\n",
       "      <th>Block</th>\n",
       "      <th>IUCR</th>\n",
       "      <th>Primary Type</th>\n",
       "      <th>Description</th>\n",
       "      <th>Location Description</th>\n",
       "      <th>Arrest</th>\n",
       "      <th>...</th>\n",
       "      <th>Ward</th>\n",
       "      <th>Community Area</th>\n",
       "      <th>FBI Code</th>\n",
       "      <th>X Coordinate</th>\n",
       "      <th>Y Coordinate</th>\n",
       "      <th>Year</th>\n",
       "      <th>Updated On</th>\n",
       "      <th>Latitude</th>\n",
       "      <th>Longitude</th>\n",
       "      <th>Location</th>\n",
       "    </tr>\n",
       "  </thead>\n",
       "  <tbody>\n",
       "    <tr>\n",
       "      <th>0</th>\n",
       "      <td>3</td>\n",
       "      <td>10508693</td>\n",
       "      <td>HZ250496</td>\n",
       "      <td>05/03/2016 11:40:00 PM</td>\n",
       "      <td>013XX S SAWYER AVE</td>\n",
       "      <td>0486</td>\n",
       "      <td>BATTERY</td>\n",
       "      <td>DOMESTIC BATTERY SIMPLE</td>\n",
       "      <td>APARTMENT</td>\n",
       "      <td>True</td>\n",
       "      <td>...</td>\n",
       "      <td>24.0</td>\n",
       "      <td>29.0</td>\n",
       "      <td>08B</td>\n",
       "      <td>1154907.0</td>\n",
       "      <td>1893681.0</td>\n",
       "      <td>2016</td>\n",
       "      <td>05/10/2016 03:56:50 PM</td>\n",
       "      <td>41.864073</td>\n",
       "      <td>-87.706819</td>\n",
       "      <td>(41.864073157, -87.706818608)</td>\n",
       "    </tr>\n",
       "    <tr>\n",
       "      <th>1</th>\n",
       "      <td>89</td>\n",
       "      <td>10508695</td>\n",
       "      <td>HZ250409</td>\n",
       "      <td>05/03/2016 09:40:00 PM</td>\n",
       "      <td>061XX S DREXEL AVE</td>\n",
       "      <td>0486</td>\n",
       "      <td>BATTERY</td>\n",
       "      <td>DOMESTIC BATTERY SIMPLE</td>\n",
       "      <td>RESIDENCE</td>\n",
       "      <td>False</td>\n",
       "      <td>...</td>\n",
       "      <td>20.0</td>\n",
       "      <td>42.0</td>\n",
       "      <td>08B</td>\n",
       "      <td>1183066.0</td>\n",
       "      <td>1864330.0</td>\n",
       "      <td>2016</td>\n",
       "      <td>05/10/2016 03:56:50 PM</td>\n",
       "      <td>41.782922</td>\n",
       "      <td>-87.604363</td>\n",
       "      <td>(41.782921527, -87.60436317)</td>\n",
       "    </tr>\n",
       "    <tr>\n",
       "      <th>2</th>\n",
       "      <td>197</td>\n",
       "      <td>10508697</td>\n",
       "      <td>HZ250503</td>\n",
       "      <td>05/03/2016 11:31:00 PM</td>\n",
       "      <td>053XX W CHICAGO AVE</td>\n",
       "      <td>0470</td>\n",
       "      <td>PUBLIC PEACE VIOLATION</td>\n",
       "      <td>RECKLESS CONDUCT</td>\n",
       "      <td>STREET</td>\n",
       "      <td>False</td>\n",
       "      <td>...</td>\n",
       "      <td>37.0</td>\n",
       "      <td>25.0</td>\n",
       "      <td>24</td>\n",
       "      <td>1140789.0</td>\n",
       "      <td>1904819.0</td>\n",
       "      <td>2016</td>\n",
       "      <td>05/10/2016 03:56:50 PM</td>\n",
       "      <td>41.894908</td>\n",
       "      <td>-87.758372</td>\n",
       "      <td>(41.894908283, -87.758371958)</td>\n",
       "    </tr>\n",
       "    <tr>\n",
       "      <th>3</th>\n",
       "      <td>673</td>\n",
       "      <td>10508698</td>\n",
       "      <td>HZ250424</td>\n",
       "      <td>05/03/2016 10:10:00 PM</td>\n",
       "      <td>049XX W FULTON ST</td>\n",
       "      <td>0460</td>\n",
       "      <td>BATTERY</td>\n",
       "      <td>SIMPLE</td>\n",
       "      <td>SIDEWALK</td>\n",
       "      <td>False</td>\n",
       "      <td>...</td>\n",
       "      <td>28.0</td>\n",
       "      <td>25.0</td>\n",
       "      <td>08B</td>\n",
       "      <td>1143223.0</td>\n",
       "      <td>1901475.0</td>\n",
       "      <td>2016</td>\n",
       "      <td>05/10/2016 03:56:50 PM</td>\n",
       "      <td>41.885687</td>\n",
       "      <td>-87.749516</td>\n",
       "      <td>(41.885686845, -87.749515983)</td>\n",
       "    </tr>\n",
       "    <tr>\n",
       "      <th>4</th>\n",
       "      <td>911</td>\n",
       "      <td>10508699</td>\n",
       "      <td>HZ250455</td>\n",
       "      <td>05/03/2016 10:00:00 PM</td>\n",
       "      <td>003XX N LOTUS AVE</td>\n",
       "      <td>0820</td>\n",
       "      <td>THEFT</td>\n",
       "      <td>$500 AND UNDER</td>\n",
       "      <td>RESIDENCE</td>\n",
       "      <td>False</td>\n",
       "      <td>...</td>\n",
       "      <td>28.0</td>\n",
       "      <td>25.0</td>\n",
       "      <td>06</td>\n",
       "      <td>1139890.0</td>\n",
       "      <td>1901675.0</td>\n",
       "      <td>2016</td>\n",
       "      <td>05/10/2016 03:56:50 PM</td>\n",
       "      <td>41.886297</td>\n",
       "      <td>-87.761751</td>\n",
       "      <td>(41.886297242, -87.761750709)</td>\n",
       "    </tr>\n",
       "    <tr>\n",
       "      <th>...</th>\n",
       "      <td>...</td>\n",
       "      <td>...</td>\n",
       "      <td>...</td>\n",
       "      <td>...</td>\n",
       "      <td>...</td>\n",
       "      <td>...</td>\n",
       "      <td>...</td>\n",
       "      <td>...</td>\n",
       "      <td>...</td>\n",
       "      <td>...</td>\n",
       "      <td>...</td>\n",
       "      <td>...</td>\n",
       "      <td>...</td>\n",
       "      <td>...</td>\n",
       "      <td>...</td>\n",
       "      <td>...</td>\n",
       "      <td>...</td>\n",
       "      <td>...</td>\n",
       "      <td>...</td>\n",
       "      <td>...</td>\n",
       "      <td>...</td>\n",
       "    </tr>\n",
       "    <tr>\n",
       "      <th>1456709</th>\n",
       "      <td>6250330</td>\n",
       "      <td>10508679</td>\n",
       "      <td>HZ250507</td>\n",
       "      <td>05/03/2016 11:33:00 PM</td>\n",
       "      <td>026XX W 23RD PL</td>\n",
       "      <td>0486</td>\n",
       "      <td>BATTERY</td>\n",
       "      <td>DOMESTIC BATTERY SIMPLE</td>\n",
       "      <td>APARTMENT</td>\n",
       "      <td>True</td>\n",
       "      <td>...</td>\n",
       "      <td>28.0</td>\n",
       "      <td>30.0</td>\n",
       "      <td>08B</td>\n",
       "      <td>1159105.0</td>\n",
       "      <td>1888300.0</td>\n",
       "      <td>2016</td>\n",
       "      <td>05/10/2016 03:56:50 PM</td>\n",
       "      <td>41.849222</td>\n",
       "      <td>-87.691556</td>\n",
       "      <td>(41.849222028, -87.69155551)</td>\n",
       "    </tr>\n",
       "    <tr>\n",
       "      <th>1456710</th>\n",
       "      <td>6251089</td>\n",
       "      <td>10508680</td>\n",
       "      <td>HZ250491</td>\n",
       "      <td>05/03/2016 11:30:00 PM</td>\n",
       "      <td>073XX S HARVARD AVE</td>\n",
       "      <td>1310</td>\n",
       "      <td>CRIMINAL DAMAGE</td>\n",
       "      <td>TO PROPERTY</td>\n",
       "      <td>APARTMENT</td>\n",
       "      <td>True</td>\n",
       "      <td>...</td>\n",
       "      <td>17.0</td>\n",
       "      <td>69.0</td>\n",
       "      <td>14</td>\n",
       "      <td>1175230.0</td>\n",
       "      <td>1856183.0</td>\n",
       "      <td>2016</td>\n",
       "      <td>05/10/2016 03:56:50 PM</td>\n",
       "      <td>41.760744</td>\n",
       "      <td>-87.633335</td>\n",
       "      <td>(41.760743949, -87.63333531)</td>\n",
       "    </tr>\n",
       "    <tr>\n",
       "      <th>1456711</th>\n",
       "      <td>6251349</td>\n",
       "      <td>10508681</td>\n",
       "      <td>HZ250479</td>\n",
       "      <td>05/03/2016 12:15:00 AM</td>\n",
       "      <td>024XX W 63RD ST</td>\n",
       "      <td>041A</td>\n",
       "      <td>BATTERY</td>\n",
       "      <td>AGGRAVATED: HANDGUN</td>\n",
       "      <td>SIDEWALK</td>\n",
       "      <td>False</td>\n",
       "      <td>...</td>\n",
       "      <td>15.0</td>\n",
       "      <td>66.0</td>\n",
       "      <td>04B</td>\n",
       "      <td>1161027.0</td>\n",
       "      <td>1862810.0</td>\n",
       "      <td>2016</td>\n",
       "      <td>05/10/2016 03:56:50 PM</td>\n",
       "      <td>41.779235</td>\n",
       "      <td>-87.685207</td>\n",
       "      <td>(41.779234743, -87.685207125)</td>\n",
       "    </tr>\n",
       "    <tr>\n",
       "      <th>1456712</th>\n",
       "      <td>6253257</td>\n",
       "      <td>10508690</td>\n",
       "      <td>HZ250370</td>\n",
       "      <td>05/03/2016 09:07:00 PM</td>\n",
       "      <td>082XX S EXCHANGE AVE</td>\n",
       "      <td>0486</td>\n",
       "      <td>BATTERY</td>\n",
       "      <td>DOMESTIC BATTERY SIMPLE</td>\n",
       "      <td>SIDEWALK</td>\n",
       "      <td>False</td>\n",
       "      <td>...</td>\n",
       "      <td>7.0</td>\n",
       "      <td>46.0</td>\n",
       "      <td>08B</td>\n",
       "      <td>1197261.0</td>\n",
       "      <td>1850727.0</td>\n",
       "      <td>2016</td>\n",
       "      <td>05/10/2016 03:56:50 PM</td>\n",
       "      <td>41.745252</td>\n",
       "      <td>-87.552773</td>\n",
       "      <td>(41.745251975, -87.552773464)</td>\n",
       "    </tr>\n",
       "    <tr>\n",
       "      <th>1456713</th>\n",
       "      <td>6253474</td>\n",
       "      <td>10508692</td>\n",
       "      <td>HZ250517</td>\n",
       "      <td>05/03/2016 11:38:00 PM</td>\n",
       "      <td>001XX E 75TH ST</td>\n",
       "      <td>5007</td>\n",
       "      <td>OTHER OFFENSE</td>\n",
       "      <td>OTHER WEAPONS VIOLATION</td>\n",
       "      <td>PARKING LOT/GARAGE(NON.RESID.)</td>\n",
       "      <td>True</td>\n",
       "      <td>...</td>\n",
       "      <td>6.0</td>\n",
       "      <td>69.0</td>\n",
       "      <td>26</td>\n",
       "      <td>1178696.0</td>\n",
       "      <td>1855324.0</td>\n",
       "      <td>2016</td>\n",
       "      <td>05/10/2016 03:56:50 PM</td>\n",
       "      <td>41.758309</td>\n",
       "      <td>-87.620658</td>\n",
       "      <td>(41.75830866, -87.620658418)</td>\n",
       "    </tr>\n",
       "  </tbody>\n",
       "</table>\n",
       "<p>1456714 rows × 23 columns</p>\n",
       "</div>"
      ],
      "text/plain": [
       "         Unnamed: 0        ID Case Number                    Date  \\\n",
       "0                 3  10508693    HZ250496  05/03/2016 11:40:00 PM   \n",
       "1                89  10508695    HZ250409  05/03/2016 09:40:00 PM   \n",
       "2               197  10508697    HZ250503  05/03/2016 11:31:00 PM   \n",
       "3               673  10508698    HZ250424  05/03/2016 10:10:00 PM   \n",
       "4               911  10508699    HZ250455  05/03/2016 10:00:00 PM   \n",
       "...             ...       ...         ...                     ...   \n",
       "1456709     6250330  10508679    HZ250507  05/03/2016 11:33:00 PM   \n",
       "1456710     6251089  10508680    HZ250491  05/03/2016 11:30:00 PM   \n",
       "1456711     6251349  10508681    HZ250479  05/03/2016 12:15:00 AM   \n",
       "1456712     6253257  10508690    HZ250370  05/03/2016 09:07:00 PM   \n",
       "1456713     6253474  10508692    HZ250517  05/03/2016 11:38:00 PM   \n",
       "\n",
       "                        Block  IUCR            Primary Type  \\\n",
       "0          013XX S SAWYER AVE  0486                 BATTERY   \n",
       "1          061XX S DREXEL AVE  0486                 BATTERY   \n",
       "2         053XX W CHICAGO AVE  0470  PUBLIC PEACE VIOLATION   \n",
       "3           049XX W FULTON ST  0460                 BATTERY   \n",
       "4           003XX N LOTUS AVE  0820                   THEFT   \n",
       "...                       ...   ...                     ...   \n",
       "1456709       026XX W 23RD PL  0486                 BATTERY   \n",
       "1456710   073XX S HARVARD AVE  1310         CRIMINAL DAMAGE   \n",
       "1456711       024XX W 63RD ST  041A                 BATTERY   \n",
       "1456712  082XX S EXCHANGE AVE  0486                 BATTERY   \n",
       "1456713       001XX E 75TH ST  5007           OTHER OFFENSE   \n",
       "\n",
       "                     Description            Location Description  Arrest  ...  \\\n",
       "0        DOMESTIC BATTERY SIMPLE                       APARTMENT    True  ...   \n",
       "1        DOMESTIC BATTERY SIMPLE                       RESIDENCE   False  ...   \n",
       "2               RECKLESS CONDUCT                          STREET   False  ...   \n",
       "3                         SIMPLE                        SIDEWALK   False  ...   \n",
       "4                 $500 AND UNDER                       RESIDENCE   False  ...   \n",
       "...                          ...                             ...     ...  ...   \n",
       "1456709  DOMESTIC BATTERY SIMPLE                       APARTMENT    True  ...   \n",
       "1456710              TO PROPERTY                       APARTMENT    True  ...   \n",
       "1456711      AGGRAVATED: HANDGUN                        SIDEWALK   False  ...   \n",
       "1456712  DOMESTIC BATTERY SIMPLE                        SIDEWALK   False  ...   \n",
       "1456713  OTHER WEAPONS VIOLATION  PARKING LOT/GARAGE(NON.RESID.)    True  ...   \n",
       "\n",
       "         Ward  Community Area  FBI Code  X Coordinate  Y Coordinate  Year  \\\n",
       "0        24.0            29.0       08B     1154907.0     1893681.0  2016   \n",
       "1        20.0            42.0       08B     1183066.0     1864330.0  2016   \n",
       "2        37.0            25.0        24     1140789.0     1904819.0  2016   \n",
       "3        28.0            25.0       08B     1143223.0     1901475.0  2016   \n",
       "4        28.0            25.0        06     1139890.0     1901675.0  2016   \n",
       "...       ...             ...       ...           ...           ...   ...   \n",
       "1456709  28.0            30.0       08B     1159105.0     1888300.0  2016   \n",
       "1456710  17.0            69.0        14     1175230.0     1856183.0  2016   \n",
       "1456711  15.0            66.0       04B     1161027.0     1862810.0  2016   \n",
       "1456712   7.0            46.0       08B     1197261.0     1850727.0  2016   \n",
       "1456713   6.0            69.0        26     1178696.0     1855324.0  2016   \n",
       "\n",
       "                     Updated On   Latitude  Longitude  \\\n",
       "0        05/10/2016 03:56:50 PM  41.864073 -87.706819   \n",
       "1        05/10/2016 03:56:50 PM  41.782922 -87.604363   \n",
       "2        05/10/2016 03:56:50 PM  41.894908 -87.758372   \n",
       "3        05/10/2016 03:56:50 PM  41.885687 -87.749516   \n",
       "4        05/10/2016 03:56:50 PM  41.886297 -87.761751   \n",
       "...                         ...        ...        ...   \n",
       "1456709  05/10/2016 03:56:50 PM  41.849222 -87.691556   \n",
       "1456710  05/10/2016 03:56:50 PM  41.760744 -87.633335   \n",
       "1456711  05/10/2016 03:56:50 PM  41.779235 -87.685207   \n",
       "1456712  05/10/2016 03:56:50 PM  41.745252 -87.552773   \n",
       "1456713  05/10/2016 03:56:50 PM  41.758309 -87.620658   \n",
       "\n",
       "                              Location  \n",
       "0        (41.864073157, -87.706818608)  \n",
       "1         (41.782921527, -87.60436317)  \n",
       "2        (41.894908283, -87.758371958)  \n",
       "3        (41.885686845, -87.749515983)  \n",
       "4        (41.886297242, -87.761750709)  \n",
       "...                                ...  \n",
       "1456709   (41.849222028, -87.69155551)  \n",
       "1456710   (41.760743949, -87.63333531)  \n",
       "1456711  (41.779234743, -87.685207125)  \n",
       "1456712  (41.745251975, -87.552773464)  \n",
       "1456713   (41.75830866, -87.620658418)  \n",
       "\n",
       "[1456714 rows x 23 columns]"
      ]
     },
     "execution_count": 4,
     "metadata": {},
     "output_type": "execute_result"
    }
   ],
   "source": [
    "df"
   ]
  },
  {
   "cell_type": "code",
   "execution_count": 5,
   "id": "aa3f6cf5",
   "metadata": {},
   "outputs": [],
   "source": [
    "df = df.dropna()"
   ]
  },
  {
   "cell_type": "code",
   "execution_count": 6,
   "id": "4d619722",
   "metadata": {},
   "outputs": [
    {
     "name": "stdout",
     "output_type": "stream",
     "text": [
      "<class 'pandas.core.frame.DataFrame'>\n",
      "Int64Index: 1418365 entries, 0 to 1456713\n",
      "Data columns (total 23 columns):\n",
      " #   Column                Non-Null Count    Dtype  \n",
      "---  ------                --------------    -----  \n",
      " 0   Unnamed: 0            1418365 non-null  int64  \n",
      " 1   ID                    1418365 non-null  int64  \n",
      " 2   Case Number           1418365 non-null  object \n",
      " 3   Date                  1418365 non-null  object \n",
      " 4   Block                 1418365 non-null  object \n",
      " 5   IUCR                  1418365 non-null  object \n",
      " 6   Primary Type          1418365 non-null  object \n",
      " 7   Description           1418365 non-null  object \n",
      " 8   Location Description  1418365 non-null  object \n",
      " 9   Arrest                1418365 non-null  bool   \n",
      " 10  Domestic              1418365 non-null  bool   \n",
      " 11  Beat                  1418365 non-null  int64  \n",
      " 12  District              1418365 non-null  float64\n",
      " 13  Ward                  1418365 non-null  float64\n",
      " 14  Community Area        1418365 non-null  float64\n",
      " 15  FBI Code              1418365 non-null  object \n",
      " 16  X Coordinate          1418365 non-null  float64\n",
      " 17  Y Coordinate          1418365 non-null  float64\n",
      " 18  Year                  1418365 non-null  int64  \n",
      " 19  Updated On            1418365 non-null  object \n",
      " 20  Latitude              1418365 non-null  float64\n",
      " 21  Longitude             1418365 non-null  float64\n",
      " 22  Location              1418365 non-null  object \n",
      "dtypes: bool(2), float64(7), int64(4), object(10)\n",
      "memory usage: 240.8+ MB\n"
     ]
    }
   ],
   "source": [
    "df.info()"
   ]
  },
  {
   "cell_type": "code",
   "execution_count": 7,
   "id": "f51c9ea6",
   "metadata": {},
   "outputs": [
    {
     "data": {
      "text/plain": [
       "array(['013XX S SAWYER AVE', '061XX S DREXEL AVE', '053XX W CHICAGO AVE',\n",
       "       ..., '061XX S Oak Park Ave', '122XX S CARONDOLET AVE',\n",
       "       '000XX W 79TH ST'], dtype=object)"
      ]
     },
     "execution_count": 7,
     "metadata": {},
     "output_type": "execute_result"
    }
   ],
   "source": [
    "df['Block'].unique()"
   ]
  },
  {
   "cell_type": "code",
   "execution_count": null,
   "id": "c15deba6",
   "metadata": {},
   "outputs": [],
   "source": [
    "df['Date'] = pd.to_datetime(df['Date'])\n",
    "df['Year'] = df['Date'].dt.year\n",
    "df['Month'] = df['Date'].dt.month\n",
    "df['Day'] = df['Date'].dt.day\n",
    "df['dayOfWeek'] = df['Date'].dt.day_name()\n",
    "df['WeekOfYear'] = df['Date'].dt.weekofyear\n",
    "df['Hour'] = df['Date'].dt.hour\n",
    "df['Minute'] = df['Date'].dt.minute\n",
    "df['Second'] = df['Date'].dt.second \n",
    "df.head()"
   ]
  },
  {
   "cell_type": "code",
   "execution_count": null,
   "id": "a04d6825",
   "metadata": {},
   "outputs": [],
   "source": [
    "df['Hour'].unique()"
   ]
  },
  {
   "cell_type": "code",
   "execution_count": null,
   "id": "61d1489d",
   "metadata": {},
   "outputs": [],
   "source": [
    "df['Primary Type'].unique()"
   ]
  },
  {
   "cell_type": "code",
   "execution_count": null,
   "id": "e989e701",
   "metadata": {},
   "outputs": [],
   "source": [
    "df['dayOfWeek'].unique()"
   ]
  },
  {
   "cell_type": "code",
   "execution_count": null,
   "id": "c334bad1",
   "metadata": {},
   "outputs": [],
   "source": [
    "df.loc[df['dayOfWeek']=='Monday','dayOfWeek'] = 0\n",
    "df.loc[df['dayOfWeek']=='Tuesday', 'dayOfWeek'] =1\n",
    "df.loc[df['dayOfWeek']=='Wednesday', 'dayOfWeek'] = 2\n",
    "df.loc[df['dayOfWeek']=='Thursday', 'dayOfWeek'] =3\n",
    "df.loc[df['dayOfWeek']=='Friday', 'dayOfWeek'] =4\n",
    "df.loc[df['dayOfWeek']=='Saturday', 'dayOfWeek'] =5\n",
    "df.loc[df['dayOfWeek']=='Sunday', 'dayOfWeek'] =6"
   ]
  },
  {
   "cell_type": "code",
   "execution_count": null,
   "id": "a6a3297f",
   "metadata": {},
   "outputs": [],
   "source": [
    "plt.rcParams[\"figure.figsize\"] = (500,300)\n"
   ]
  },
  {
   "cell_type": "code",
   "execution_count": null,
   "id": "f42cf85d",
   "metadata": {},
   "outputs": [],
   "source": [
    "sns.barplot(x='Primary Type', y='dayOfWeek', data=df)"
   ]
  },
  {
   "cell_type": "code",
   "execution_count": null,
   "id": "ac046f4c",
   "metadata": {},
   "outputs": [],
   "source": [
    "sns.barplot(x='Primary Type', y='Month', data=df)"
   ]
  },
  {
   "cell_type": "code",
   "execution_count": null,
   "id": "ab0635c0",
   "metadata": {},
   "outputs": [],
   "source": [
    "x = df [['Year','Month','Day','dayOfWeek','Minute','Second','Latitude','Longitude']]"
   ]
  },
  {
   "cell_type": "code",
   "execution_count": null,
   "id": "c866fdf2",
   "metadata": {},
   "outputs": [],
   "source": [
    "x"
   ]
  },
  {
   "cell_type": "code",
   "execution_count": null,
   "id": "083a9b54",
   "metadata": {},
   "outputs": [],
   "source": [
    "y =df['Primary Type']"
   ]
  },
  {
   "cell_type": "code",
   "execution_count": null,
   "id": "cd100824",
   "metadata": {},
   "outputs": [],
   "source": [
    "from sklearn.model_selection import train_test_split"
   ]
  },
  {
   "cell_type": "code",
   "execution_count": null,
   "id": "799b017b",
   "metadata": {},
   "outputs": [],
   "source": [
    "X_train, X_test, y_train, y_test = train_test_split(X, y, test_size = 0.2, random_state = 42)"
   ]
  },
  {
   "cell_type": "code",
   "execution_count": 38,
   "id": "aba67a74",
   "metadata": {},
   "outputs": [
    {
     "data": {
      "text/plain": [
       "GaussianNB()"
      ]
     },
     "execution_count": 38,
     "metadata": {},
     "output_type": "execute_result"
    }
   ],
   "source": [
    "from sklearn.naive_bayes import GaussianNB  \n",
    "classifier = GaussianNB()  \n",
    "classifier.fit(X_train, y_train)  "
   ]
  },
  {
   "cell_type": "code",
   "execution_count": 39,
   "id": "ce4cd37b",
   "metadata": {},
   "outputs": [
    {
     "data": {
      "text/plain": [
       "0.039167633155076445"
      ]
     },
     "execution_count": 39,
     "metadata": {},
     "output_type": "execute_result"
    }
   ],
   "source": [
    "classifier.score(X_train, y_train)  "
   ]
  },
  {
   "cell_type": "code",
   "execution_count": null,
   "id": "177d086d",
   "metadata": {},
   "outputs": [],
   "source": [
    "from sklearn.metrics import accuracy_score\n",
    "y_pred = classifier.predict(X_test )\n",
    "accuracy_score(y_pred,y_test)"
   ]
  },
  {
   "cell_type": "code",
   "execution_count": null,
   "id": "310d7e32",
   "metadata": {},
   "outputs": [],
   "source": [
    "import pickle"
   ]
  },
  {
   "cell_type": "code",
   "execution_count": 41,
   "id": "c61af129",
   "metadata": {},
   "outputs": [],
   "source": [
    "pickle.dump(classifier, open('model.pkl', 'wb'))\n"
   ]
  },
  {
   "cell_type": "code",
   "execution_count": 42,
   "id": "091b6eca",
   "metadata": {},
   "outputs": [],
   "source": [
    "model = pickle.load( open('model.pkl', 'rb') )"
   ]
  },
  {
   "cell_type": "code",
   "execution_count": null,
   "id": "6ad71e39",
   "metadata": {},
   "outputs": [],
   "source": []
  }
 ],
 "metadata": {
  "kernelspec": {
   "display_name": "Python 3",
   "language": "python",
   "name": "python3"
  },
  "language_info": {
   "codemirror_mode": {
    "name": "ipython",
    "version": 3
   },
   "file_extension": ".py",
   "mimetype": "text/x-python",
   "name": "python",
   "nbconvert_exporter": "python",
   "pygments_lexer": "ipython3",
   "version": "3.8.8"
  }
 },
 "nbformat": 4,
 "nbformat_minor": 5
}
